{
  "nbformat": 4,
  "nbformat_minor": 0,
  "metadata": {
    "colab": {
      "provenance": [],
      "collapsed_sections": []
    },
    "kernelspec": {
      "name": "python3",
      "display_name": "Python 3"
    },
    "language_info": {
      "name": "python"
    },
    "accelerator": "GPU"
  },
  "cells": [
    {
      "cell_type": "code",
      "execution_count": 30,
      "metadata": {
        "colab": {
          "base_uri": "https://localhost:8080/"
        },
        "id": "JCNmZn7wWdHt",
        "outputId": "2493c7c2-b2ee-4548-ae23-2069c5cf999c"
      },
      "outputs": [
        {
          "output_type": "stream",
          "name": "stdout",
          "text": [
            "5\n",
            "2.5\n",
            "0.0\n"
          ]
        }
      ],
      "source": [
        "import itertools\n",
        "\n",
        "counter = itertools.count(start=5, step=-2.5)\n",
        "\n",
        "print(next(counter))\n",
        "print(next(counter))\n",
        "print(next(counter))"
      ]
    },
    {
      "cell_type": "code",
      "source": [
        "data = [100, 200, 300, 400, 500]\n",
        "\n",
        "daily_data = list(itertools.zip_longest(range(10), data))\n",
        "\n",
        "print(daily_data)"
      ],
      "metadata": {
        "colab": {
          "base_uri": "https://localhost:8080/"
        },
        "id": "bOKVuL5VyeHR",
        "outputId": "689436bc-179e-4b2e-b83b-06c7e5e6c70a"
      },
      "execution_count": 31,
      "outputs": [
        {
          "output_type": "stream",
          "name": "stdout",
          "text": [
            "[(0, 100), (1, 200), (2, 300), (3, 400), (4, 500), (5, None), (6, None), (7, None), (8, None), (9, None)]\n"
          ]
        }
      ]
    },
    {
      "cell_type": "code",
      "source": [
        "counter = itertools.cycle([1,2,3])\n",
        "print(next(counter))\n",
        "print(next(counter))\n",
        "print(next(counter))"
      ],
      "metadata": {
        "colab": {
          "base_uri": "https://localhost:8080/"
        },
        "id": "uRCTi4fM01Tu",
        "outputId": "4025086a-6c91-40b8-cdfa-d42d615389a8"
      },
      "execution_count": 32,
      "outputs": [
        {
          "output_type": "stream",
          "name": "stdout",
          "text": [
            "1\n",
            "2\n",
            "3\n"
          ]
        }
      ]
    },
    {
      "cell_type": "code",
      "source": [
        "counter = itertools.repeat(2, times=3)"
      ],
      "metadata": {
        "id": "zD9sgRRuzpk6"
      },
      "execution_count": 33,
      "outputs": []
    },
    {
      "cell_type": "code",
      "source": [
        "squares = itertools.starmap(pow, [(0,2), (1,2), (2,2), (3,2)])\n",
        "print(list(squares))"
      ],
      "metadata": {
        "colab": {
          "base_uri": "https://localhost:8080/"
        },
        "id": "ynajY6PX2C34",
        "outputId": "ba2e4914-553e-44f9-b282-e66c86b6d035"
      },
      "execution_count": 34,
      "outputs": [
        {
          "output_type": "stream",
          "name": "stdout",
          "text": [
            "[0, 1, 4, 9]\n"
          ]
        }
      ]
    },
    {
      "cell_type": "code",
      "source": [
        "letters = ['a', 'b', 'c', 'd']\n",
        "numbers = [0, 1, 2, 3]\n",
        "names = ['Corey', 'Nicole']\n",
        "\n",
        "\n",
        "\n",
        "people = [\n",
        "    {\n",
        "        'name': 'John Doe',\n",
        "        'city': 'Gotham',\n",
        "        'state': 'NY'\n",
        "    },\n",
        "    {\n",
        "        'name': 'Jane Doe',\n",
        "        'city': 'Kings Landing',\n",
        "        'state': 'NY'\n",
        "    },\n",
        "    {\n",
        "        'name': 'Corey Schafer',\n",
        "        'city': 'Boulder',\n",
        "        'state': 'CO'\n",
        "    },\n",
        "    {\n",
        "        'name': 'Al Einstein',\n",
        "        'city': 'Denver',\n",
        "        'state': 'CO'\n",
        "    },\n",
        "    {\n",
        "        'name': 'John Henry',\n",
        "        'city': 'Hinton',\n",
        "        'state': 'WV'\n",
        "    },\n",
        "    {\n",
        "        'name': 'Randy Moss',\n",
        "        'city': 'Rand',\n",
        "        'state': 'WV'\n",
        "    },\n",
        "    {\n",
        "        'name': 'Nicole K',\n",
        "        'city': 'Asheville',\n",
        "        'state': 'NC'\n",
        "    },\n",
        "    {\n",
        "        'name': 'Jim Doe',\n",
        "        'city': 'Charlotte',\n",
        "        'state': 'NC'\n",
        "    },\n",
        "    {\n",
        "        'name': 'Jane Taylor',\n",
        "        'city': 'Faketown',\n",
        "        'state': 'NC'\n",
        "    }\n",
        "]\n",
        "\n",
        "result = itertools.combinations(letters, 2)\n",
        "print(result)\n",
        "\n",
        "# if you use permutations you get all the combinations of the object where order is important to the results\n",
        "\n",
        "for item in result:\n",
        "  print(item)"
      ],
      "metadata": {
        "colab": {
          "base_uri": "https://localhost:8080/"
        },
        "id": "iPAH5MZE3B1Y",
        "outputId": "74346d89-45e0-409e-dfda-a1ce0a9d528a"
      },
      "execution_count": 35,
      "outputs": [
        {
          "output_type": "stream",
          "name": "stdout",
          "text": [
            "<itertools.combinations object at 0x7f1be2504b30>\n",
            "('a', 'b')\n",
            "('a', 'c')\n",
            "('a', 'd')\n",
            "('b', 'c')\n",
            "('b', 'd')\n",
            "('c', 'd')\n"
          ]
        }
      ]
    },
    {
      "cell_type": "code",
      "source": [
        "results = itertools.product(numbers, repeat=4)\n",
        "# results = itertools.combinations_with_replacement(numbers, 4)\n",
        "\n",
        "for item in results: \n",
        "  print(item)"
      ],
      "metadata": {
        "colab": {
          "base_uri": "https://localhost:8080/"
        },
        "id": "ePs2rObo44b0",
        "outputId": "0522749c-6b37-4c8c-b5bc-ac1517cd949b"
      },
      "execution_count": 36,
      "outputs": [
        {
          "output_type": "stream",
          "name": "stdout",
          "text": [
            "(0, 0, 0, 0)\n",
            "(0, 0, 0, 1)\n",
            "(0, 0, 0, 2)\n",
            "(0, 0, 0, 3)\n",
            "(0, 0, 1, 0)\n",
            "(0, 0, 1, 1)\n",
            "(0, 0, 1, 2)\n",
            "(0, 0, 1, 3)\n",
            "(0, 0, 2, 0)\n",
            "(0, 0, 2, 1)\n",
            "(0, 0, 2, 2)\n",
            "(0, 0, 2, 3)\n",
            "(0, 0, 3, 0)\n",
            "(0, 0, 3, 1)\n",
            "(0, 0, 3, 2)\n",
            "(0, 0, 3, 3)\n",
            "(0, 1, 0, 0)\n",
            "(0, 1, 0, 1)\n",
            "(0, 1, 0, 2)\n",
            "(0, 1, 0, 3)\n",
            "(0, 1, 1, 0)\n",
            "(0, 1, 1, 1)\n",
            "(0, 1, 1, 2)\n",
            "(0, 1, 1, 3)\n",
            "(0, 1, 2, 0)\n",
            "(0, 1, 2, 1)\n",
            "(0, 1, 2, 2)\n",
            "(0, 1, 2, 3)\n",
            "(0, 1, 3, 0)\n",
            "(0, 1, 3, 1)\n",
            "(0, 1, 3, 2)\n",
            "(0, 1, 3, 3)\n",
            "(0, 2, 0, 0)\n",
            "(0, 2, 0, 1)\n",
            "(0, 2, 0, 2)\n",
            "(0, 2, 0, 3)\n",
            "(0, 2, 1, 0)\n",
            "(0, 2, 1, 1)\n",
            "(0, 2, 1, 2)\n",
            "(0, 2, 1, 3)\n",
            "(0, 2, 2, 0)\n",
            "(0, 2, 2, 1)\n",
            "(0, 2, 2, 2)\n",
            "(0, 2, 2, 3)\n",
            "(0, 2, 3, 0)\n",
            "(0, 2, 3, 1)\n",
            "(0, 2, 3, 2)\n",
            "(0, 2, 3, 3)\n",
            "(0, 3, 0, 0)\n",
            "(0, 3, 0, 1)\n",
            "(0, 3, 0, 2)\n",
            "(0, 3, 0, 3)\n",
            "(0, 3, 1, 0)\n",
            "(0, 3, 1, 1)\n",
            "(0, 3, 1, 2)\n",
            "(0, 3, 1, 3)\n",
            "(0, 3, 2, 0)\n",
            "(0, 3, 2, 1)\n",
            "(0, 3, 2, 2)\n",
            "(0, 3, 2, 3)\n",
            "(0, 3, 3, 0)\n",
            "(0, 3, 3, 1)\n",
            "(0, 3, 3, 2)\n",
            "(0, 3, 3, 3)\n",
            "(1, 0, 0, 0)\n",
            "(1, 0, 0, 1)\n",
            "(1, 0, 0, 2)\n",
            "(1, 0, 0, 3)\n",
            "(1, 0, 1, 0)\n",
            "(1, 0, 1, 1)\n",
            "(1, 0, 1, 2)\n",
            "(1, 0, 1, 3)\n",
            "(1, 0, 2, 0)\n",
            "(1, 0, 2, 1)\n",
            "(1, 0, 2, 2)\n",
            "(1, 0, 2, 3)\n",
            "(1, 0, 3, 0)\n",
            "(1, 0, 3, 1)\n",
            "(1, 0, 3, 2)\n",
            "(1, 0, 3, 3)\n",
            "(1, 1, 0, 0)\n",
            "(1, 1, 0, 1)\n",
            "(1, 1, 0, 2)\n",
            "(1, 1, 0, 3)\n",
            "(1, 1, 1, 0)\n",
            "(1, 1, 1, 1)\n",
            "(1, 1, 1, 2)\n",
            "(1, 1, 1, 3)\n",
            "(1, 1, 2, 0)\n",
            "(1, 1, 2, 1)\n",
            "(1, 1, 2, 2)\n",
            "(1, 1, 2, 3)\n",
            "(1, 1, 3, 0)\n",
            "(1, 1, 3, 1)\n",
            "(1, 1, 3, 2)\n",
            "(1, 1, 3, 3)\n",
            "(1, 2, 0, 0)\n",
            "(1, 2, 0, 1)\n",
            "(1, 2, 0, 2)\n",
            "(1, 2, 0, 3)\n",
            "(1, 2, 1, 0)\n",
            "(1, 2, 1, 1)\n",
            "(1, 2, 1, 2)\n",
            "(1, 2, 1, 3)\n",
            "(1, 2, 2, 0)\n",
            "(1, 2, 2, 1)\n",
            "(1, 2, 2, 2)\n",
            "(1, 2, 2, 3)\n",
            "(1, 2, 3, 0)\n",
            "(1, 2, 3, 1)\n",
            "(1, 2, 3, 2)\n",
            "(1, 2, 3, 3)\n",
            "(1, 3, 0, 0)\n",
            "(1, 3, 0, 1)\n",
            "(1, 3, 0, 2)\n",
            "(1, 3, 0, 3)\n",
            "(1, 3, 1, 0)\n",
            "(1, 3, 1, 1)\n",
            "(1, 3, 1, 2)\n",
            "(1, 3, 1, 3)\n",
            "(1, 3, 2, 0)\n",
            "(1, 3, 2, 1)\n",
            "(1, 3, 2, 2)\n",
            "(1, 3, 2, 3)\n",
            "(1, 3, 3, 0)\n",
            "(1, 3, 3, 1)\n",
            "(1, 3, 3, 2)\n",
            "(1, 3, 3, 3)\n",
            "(2, 0, 0, 0)\n",
            "(2, 0, 0, 1)\n",
            "(2, 0, 0, 2)\n",
            "(2, 0, 0, 3)\n",
            "(2, 0, 1, 0)\n",
            "(2, 0, 1, 1)\n",
            "(2, 0, 1, 2)\n",
            "(2, 0, 1, 3)\n",
            "(2, 0, 2, 0)\n",
            "(2, 0, 2, 1)\n",
            "(2, 0, 2, 2)\n",
            "(2, 0, 2, 3)\n",
            "(2, 0, 3, 0)\n",
            "(2, 0, 3, 1)\n",
            "(2, 0, 3, 2)\n",
            "(2, 0, 3, 3)\n",
            "(2, 1, 0, 0)\n",
            "(2, 1, 0, 1)\n",
            "(2, 1, 0, 2)\n",
            "(2, 1, 0, 3)\n",
            "(2, 1, 1, 0)\n",
            "(2, 1, 1, 1)\n",
            "(2, 1, 1, 2)\n",
            "(2, 1, 1, 3)\n",
            "(2, 1, 2, 0)\n",
            "(2, 1, 2, 1)\n",
            "(2, 1, 2, 2)\n",
            "(2, 1, 2, 3)\n",
            "(2, 1, 3, 0)\n",
            "(2, 1, 3, 1)\n",
            "(2, 1, 3, 2)\n",
            "(2, 1, 3, 3)\n",
            "(2, 2, 0, 0)\n",
            "(2, 2, 0, 1)\n",
            "(2, 2, 0, 2)\n",
            "(2, 2, 0, 3)\n",
            "(2, 2, 1, 0)\n",
            "(2, 2, 1, 1)\n",
            "(2, 2, 1, 2)\n",
            "(2, 2, 1, 3)\n",
            "(2, 2, 2, 0)\n",
            "(2, 2, 2, 1)\n",
            "(2, 2, 2, 2)\n",
            "(2, 2, 2, 3)\n",
            "(2, 2, 3, 0)\n",
            "(2, 2, 3, 1)\n",
            "(2, 2, 3, 2)\n",
            "(2, 2, 3, 3)\n",
            "(2, 3, 0, 0)\n",
            "(2, 3, 0, 1)\n",
            "(2, 3, 0, 2)\n",
            "(2, 3, 0, 3)\n",
            "(2, 3, 1, 0)\n",
            "(2, 3, 1, 1)\n",
            "(2, 3, 1, 2)\n",
            "(2, 3, 1, 3)\n",
            "(2, 3, 2, 0)\n",
            "(2, 3, 2, 1)\n",
            "(2, 3, 2, 2)\n",
            "(2, 3, 2, 3)\n",
            "(2, 3, 3, 0)\n",
            "(2, 3, 3, 1)\n",
            "(2, 3, 3, 2)\n",
            "(2, 3, 3, 3)\n",
            "(3, 0, 0, 0)\n",
            "(3, 0, 0, 1)\n",
            "(3, 0, 0, 2)\n",
            "(3, 0, 0, 3)\n",
            "(3, 0, 1, 0)\n",
            "(3, 0, 1, 1)\n",
            "(3, 0, 1, 2)\n",
            "(3, 0, 1, 3)\n",
            "(3, 0, 2, 0)\n",
            "(3, 0, 2, 1)\n",
            "(3, 0, 2, 2)\n",
            "(3, 0, 2, 3)\n",
            "(3, 0, 3, 0)\n",
            "(3, 0, 3, 1)\n",
            "(3, 0, 3, 2)\n",
            "(3, 0, 3, 3)\n",
            "(3, 1, 0, 0)\n",
            "(3, 1, 0, 1)\n",
            "(3, 1, 0, 2)\n",
            "(3, 1, 0, 3)\n",
            "(3, 1, 1, 0)\n",
            "(3, 1, 1, 1)\n",
            "(3, 1, 1, 2)\n",
            "(3, 1, 1, 3)\n",
            "(3, 1, 2, 0)\n",
            "(3, 1, 2, 1)\n",
            "(3, 1, 2, 2)\n",
            "(3, 1, 2, 3)\n",
            "(3, 1, 3, 0)\n",
            "(3, 1, 3, 1)\n",
            "(3, 1, 3, 2)\n",
            "(3, 1, 3, 3)\n",
            "(3, 2, 0, 0)\n",
            "(3, 2, 0, 1)\n",
            "(3, 2, 0, 2)\n",
            "(3, 2, 0, 3)\n",
            "(3, 2, 1, 0)\n",
            "(3, 2, 1, 1)\n",
            "(3, 2, 1, 2)\n",
            "(3, 2, 1, 3)\n",
            "(3, 2, 2, 0)\n",
            "(3, 2, 2, 1)\n",
            "(3, 2, 2, 2)\n",
            "(3, 2, 2, 3)\n",
            "(3, 2, 3, 0)\n",
            "(3, 2, 3, 1)\n",
            "(3, 2, 3, 2)\n",
            "(3, 2, 3, 3)\n",
            "(3, 3, 0, 0)\n",
            "(3, 3, 0, 1)\n",
            "(3, 3, 0, 2)\n",
            "(3, 3, 0, 3)\n",
            "(3, 3, 1, 0)\n",
            "(3, 3, 1, 1)\n",
            "(3, 3, 1, 2)\n",
            "(3, 3, 1, 3)\n",
            "(3, 3, 2, 0)\n",
            "(3, 3, 2, 1)\n",
            "(3, 3, 2, 2)\n",
            "(3, 3, 2, 3)\n",
            "(3, 3, 3, 0)\n",
            "(3, 3, 3, 1)\n",
            "(3, 3, 3, 2)\n",
            "(3, 3, 3, 3)\n"
          ]
        }
      ]
    },
    {
      "cell_type": "code",
      "source": [
        "combined = itertools.chain(letters + numbers + names)\n",
        "for item in combined:\n",
        "  print(item)"
      ],
      "metadata": {
        "colab": {
          "base_uri": "https://localhost:8080/"
        },
        "id": "rHecgd1D56Te",
        "outputId": "07366abd-1de2-43dc-a575-5166980c2f6a"
      },
      "execution_count": 37,
      "outputs": [
        {
          "output_type": "stream",
          "name": "stdout",
          "text": [
            "a\n",
            "b\n",
            "c\n",
            "d\n",
            "0\n",
            "1\n",
            "2\n",
            "3\n",
            "Corey\n",
            "Nicole\n"
          ]
        }
      ]
    },
    {
      "cell_type": "code",
      "source": [
        "results  = itertools.islice(range(10), 1, 5, 2)\n",
        "\n",
        "for item in results:\n",
        "  print(item)"
      ],
      "metadata": {
        "colab": {
          "base_uri": "https://localhost:8080/"
        },
        "id": "GY66fwxZ6tcI",
        "outputId": "1ea0b9e9-8acb-49ec-a752-8ea53aabd290"
      },
      "execution_count": 38,
      "outputs": [
        {
          "output_type": "stream",
          "name": "stdout",
          "text": [
            "1\n",
            "3\n"
          ]
        }
      ]
    },
    {
      "cell_type": "code",
      "source": [
        "# with open('test.log', 'r') as f:\n",
        "#   header = itertools.islice(f, 3)\n",
        "  \n",
        "#   for line in header:\n",
        "#     print(line, end='')"
      ],
      "metadata": {
        "id": "Vx7Y9zISJmRu"
      },
      "execution_count": 39,
      "outputs": []
    },
    {
      "cell_type": "code",
      "source": [
        "selectors = [True, True, False, True]\n",
        "results  = itertools.compress(letters, selectors)\n",
        "for item in results:\n",
        "  print(item)\n"
      ],
      "metadata": {
        "colab": {
          "base_uri": "https://localhost:8080/"
        },
        "id": "5VhbrCVpKjj7",
        "outputId": "6e5b3798-a86f-40f2-ecf3-49c53306f049"
      },
      "execution_count": 40,
      "outputs": [
        {
          "output_type": "stream",
          "name": "stdout",
          "text": [
            "a\n",
            "b\n",
            "d\n"
          ]
        }
      ]
    },
    {
      "cell_type": "code",
      "source": [
        "def less_than_2(n):\n",
        "  if n < 2:\n",
        "    return True\n",
        "  return False\n",
        "\n",
        "result_less_than_2 = filter(less_than_2, numbers)\n",
        "\n",
        "for item in result_less_than_2:\n",
        "  print(item)"
      ],
      "metadata": {
        "colab": {
          "base_uri": "https://localhost:8080/"
        },
        "id": "Yij2tamSLZVQ",
        "outputId": "e73611a0-b0c4-47a6-db44-3eeffb8f6150"
      },
      "execution_count": 41,
      "outputs": [
        {
          "output_type": "stream",
          "name": "stdout",
          "text": [
            "0\n",
            "1\n"
          ]
        }
      ]
    },
    {
      "cell_type": "code",
      "source": [
        "# result_less_than_2 = itertools.filterfalse(less_than_2, numbers)\n",
        "\n",
        "# for item in result_less_than_2:\n",
        "#   print(item)"
      ],
      "metadata": {
        "id": "OKo2zkSwMSD0"
      },
      "execution_count": 42,
      "outputs": []
    },
    {
      "cell_type": "code",
      "source": [
        "numbers = [0, 1, 2, 3, 2, 1, 0]\n",
        "\n",
        "result = itertools.dropwhile(less_than_2, numbers)\n",
        "for item in result:\n",
        "  print(item)"
      ],
      "metadata": {
        "colab": {
          "base_uri": "https://localhost:8080/"
        },
        "id": "DRG80poUMw2L",
        "outputId": "8e67fd99-4009-4829-9501-a9ee145c5c58"
      },
      "execution_count": 43,
      "outputs": [
        {
          "output_type": "stream",
          "name": "stdout",
          "text": [
            "2\n",
            "3\n",
            "2\n",
            "1\n",
            "0\n"
          ]
        }
      ]
    },
    {
      "cell_type": "code",
      "source": [
        "result = itertools.takewhile(less_than_2, numbers)\n",
        "for item in result:\n",
        "  print(item)"
      ],
      "metadata": {
        "colab": {
          "base_uri": "https://localhost:8080/"
        },
        "id": "HzJF0GNHNwdo",
        "outputId": "dad1fad2-4dec-4287-a3a0-44f8af8c619b"
      },
      "execution_count": 44,
      "outputs": [
        {
          "output_type": "stream",
          "name": "stdout",
          "text": [
            "0\n",
            "1\n"
          ]
        }
      ]
    },
    {
      "cell_type": "code",
      "source": [
        "import operator\n",
        "result = itertools.accumulate(numbers, operator.mul)\n",
        "for item in result:\n",
        "  print(item) # all zeros because first number is 0"
      ],
      "metadata": {
        "colab": {
          "base_uri": "https://localhost:8080/"
        },
        "id": "ROqUYOXgN_Nn",
        "outputId": "76fd3139-2bc2-49ae-e00f-87fd1b3e1081"
      },
      "execution_count": 45,
      "outputs": [
        {
          "output_type": "stream",
          "name": "stdout",
          "text": [
            "0\n",
            "0\n",
            "0\n",
            "0\n",
            "0\n",
            "0\n",
            "0\n"
          ]
        }
      ]
    },
    {
      "cell_type": "code",
      "source": [
        "# groupby function\n",
        "\n",
        "def get_state(person):\n",
        "  return person['state']\n",
        "\n",
        "\n",
        "person_group = itertools.groupby(people, get_state)\n",
        "\n",
        "for key, group in person_group:\n",
        "  print(key)\n",
        "  for person in group:\n",
        "    print(person)\n",
        "  print()"
      ],
      "metadata": {
        "colab": {
          "base_uri": "https://localhost:8080/"
        },
        "id": "IN_FICVCOwn1",
        "outputId": "a0d01475-ef8c-4378-e224-f906d5458075"
      },
      "execution_count": 51,
      "outputs": [
        {
          "output_type": "stream",
          "name": "stdout",
          "text": [
            "NY\n",
            "{'name': 'John Doe', 'city': 'Gotham', 'state': 'NY'}\n",
            "{'name': 'Jane Doe', 'city': 'Kings Landing', 'state': 'NY'}\n",
            "\n",
            "CO\n",
            "{'name': 'Corey Schafer', 'city': 'Boulder', 'state': 'CO'}\n",
            "{'name': 'Al Einstein', 'city': 'Denver', 'state': 'CO'}\n",
            "\n",
            "WV\n",
            "{'name': 'John Henry', 'city': 'Hinton', 'state': 'WV'}\n",
            "{'name': 'Randy Moss', 'city': 'Rand', 'state': 'WV'}\n",
            "\n",
            "NC\n",
            "{'name': 'Nicole K', 'city': 'Asheville', 'state': 'NC'}\n",
            "{'name': 'Jim Doe', 'city': 'Charlotte', 'state': 'NC'}\n",
            "{'name': 'Jane Taylor', 'city': 'Faketown', 'state': 'NC'}\n",
            "\n"
          ]
        }
      ]
    },
    {
      "cell_type": "code",
      "source": [
        "def get_state(person):\n",
        "  return person['state']\n",
        "\n",
        "\n",
        "person_group = itertools.groupby(people, get_state)\n",
        "\n",
        "\n",
        "for key, group in person_group:\n",
        "  print(key, len(list(group)))"
      ],
      "metadata": {
        "colab": {
          "base_uri": "https://localhost:8080/"
        },
        "id": "zc4K6PVFR518",
        "outputId": "5f7a31af-73f8-4266-d917-1dcced63393c"
      },
      "execution_count": 54,
      "outputs": [
        {
          "output_type": "stream",
          "name": "stdout",
          "text": [
            "NY 2\n",
            "CO 2\n",
            "WV 2\n",
            "NC 3\n"
          ]
        }
      ]
    },
    {
      "cell_type": "code",
      "source": [
        "# replicating an iterator\n",
        "\n",
        "copy1, copy2 = itertools.tee(person_group) # Don't use the original iterator\n",
        "\n"
      ],
      "metadata": {
        "id": "ZxIiYgeQT4BC"
      },
      "execution_count": null,
      "outputs": []
    }
  ]
}